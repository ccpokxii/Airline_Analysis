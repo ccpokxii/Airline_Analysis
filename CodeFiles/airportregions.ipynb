{
 "cells": [
  {
   "cell_type": "code",
   "execution_count": 1,
   "metadata": {},
   "outputs": [
    {
     "data": {
      "application/vnd.jupyter.widget-view+json": {
       "model_id": "893eb1b4f2f749828b529c907ad35529",
       "version_major": 2,
       "version_minor": 0
      },
      "text/plain": [
       "A Jupyter Widget"
      ]
     },
     "metadata": {},
     "output_type": "display_data"
    }
   ],
   "source": [
    "import pandas\n",
    "import numpy as np\n",
    "import csv \n",
    "import gmaps\n",
    "import gmaps.datasets\n",
    "gmaps.configure(api_key=\"MY API KEY\")\n",
    "datapack = pandas.read_csv(\"airportregions.csv\")\n",
    "region = datapack[\"region\"]\n",
    "lat = datapack[\"lat\"]\n",
    "long = datapack[\"long\"]\n",
    "latitudes = []\n",
    "longitudes = []\n",
    "south = []\n",
    "west = []\n",
    "northeast = []\n",
    "northcentral = []\n",
    "count = 0\n",
    "while count < len(long):\n",
    "    latitudes.append(lat[count])\n",
    "    longitudes.append(long[count])\n",
    "    count = count+1\n",
    "count = 0\n",
    "while count < len(longitudes):\n",
    "    if region[count] == \"South\":\n",
    "        h=(float(latitudes[count]),float(longitudes[count]))\n",
    "        south.append(h)\n",
    "    count = count + 1 \n",
    "count = 0\n",
    "while count < len(longitudes):\n",
    "    if region[count] == \"West\":\n",
    "        h=(float(latitudes[count]),float(longitudes[count]))\n",
    "        west.append(h)\n",
    "    count = count + 1  \n",
    "count = 0\n",
    "while count < len(longitudes):\n",
    "    if region[count] == \"Northeast\":\n",
    "        h=(float(latitudes[count]),float(longitudes[count]))\n",
    "        northeast.append(h)\n",
    "    count = count + 1  \n",
    "count = 0\n",
    "while count < len(longitudes):\n",
    "    if region[count] == \"North Central\":\n",
    "        h=(float(latitudes[count]),float(longitudes[count]))\n",
    "        northcentral.append(h)\n",
    "    count = count + 1  \n",
    "    \n",
    "south_layer = gmaps.symbol_layer(south,fill_color='red', stroke_color='black', scale=3)\n",
    "west_layer = gmaps.symbol_layer(west,fill_color='yellow', stroke_color='black', scale=3)\n",
    "northeast_layer = gmaps.symbol_layer(northeast,fill_color='blue', stroke_color='black', scale=3)\n",
    "northcentral_layer = gmaps.symbol_layer(northcentral,fill_color='purple', stroke_color='black', scale=3)\n",
    "fig = gmaps.figure(map_type = \"HYBRID\")\n",
    "fig.add_layer(south_layer)\n",
    "fig.add_layer(west_layer)\n",
    "fig.add_layer(northeast_layer)\n",
    "fig.add_layer(northcentral_layer)\n",
    "fig"
   ]
  },
  {
   "cell_type": "code",
   "execution_count": null,
   "metadata": {
    "collapsed": true
   },
   "outputs": [],
   "source": []
  }
 ],
 "metadata": {
  "kernelspec": {
   "display_name": "Python 3",
   "language": "python",
   "name": "python3"
  },
  "language_info": {
   "codemirror_mode": {
    "name": "ipython",
    "version": 3
   },
   "file_extension": ".py",
   "mimetype": "text/x-python",
   "name": "python",
   "nbconvert_exporter": "python",
   "pygments_lexer": "ipython3",
   "version": "3.6.3"
  }
 },
 "nbformat": 4,
 "nbformat_minor": 2
}
